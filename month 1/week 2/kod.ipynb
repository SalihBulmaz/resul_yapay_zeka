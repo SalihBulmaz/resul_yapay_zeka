{
  "cells": [
    {
      "cell_type": "markdown",
      "metadata": {},
      "source": [
        "# 1. Ay 2. Hafta - NumPy ile Matematiksel İşlemler ve Array Manipülasyonu\n",
        "\n",
        "## 🎯 Bu Haftanın Hedefleri\n",
        "- NumPy'ın veri bilimindeki kritik rolünü anlamak\n",
        "- N-boyutlu array yapılarını kavramak ve kullanmak\n",
        "- Vectorized işlemlerin gücünü deneyimlemek\n",
        "- İstatistiksel analiz için temel araçları öğrenmek\n",
        "- Pandas ile NumPy entegrasyonunu keşfetmek\n",
        "\n",
        "---\n",
        "\n",
        "## 📚 NumPy'ye Giriş: Bilimsel Hesaplamanın Temeli\n",
        "\n",
        "### NumPy Nedir ve Neden Bu Kadar Kritik?\n",
        "\n",
        "NumPy (Numerical Python), Python'da bilimsel hesaplama için geliştirilmiş temel kütüphanedir. Adeta Python'un matematiksel beyni gibi düşünebiliriz. Pandas'ın bile altında NumPy çalışır.\n",
        "\n",
        "**NumPy'ın Dünyayı Değiştiren Özellikleri:**\n",
        "\n",
        "**1. N-Boyutlu Array (ndarray) Yapısı**\n",
        "NumPy'ın kalbi ndarray'dir. Bu, Python listelerinden çok daha güçlü ve hızlı bir veri yapısıdır. Neden?\n",
        "\n",
        "- **Homojen Veri**: Tüm elemanlar aynı tipte olmalı (int32, float64 vs.)\n",
        "- **Contiguous Memory**: Veriler bellekte peş peşe saklanır\n",
        "- **Vectorization**: Tek komutla tüm array'e işlem uygulanabilir\n",
        "- **Broadcasting**: Farklı boyutlardaki array'leri matematiksel işlemlerde kullanabilme\n",
        "\n",
        "**2. C Seviyesinde Performans**\n",
        "NumPy'ın alt yapısı C ve Fortran ile yazılmıştır. Bu, Python kodunun C hızında çalışması anlamına gelir."
      ]
    },
    {
      "cell_type": "code",
      "execution_count": 1,
      "metadata": {},
      "outputs": [
        {
          "name": "stdout",
          "output_type": "stream",
          "text": [
            "Python listesi ile işlem süresi: 0.0143 saniye\n",
            "NumPy array ile işlem süresi: 0.0009 saniye\n",
            "NumPy 15.1x daha hızlı!\n"
          ]
        }
      ],
      "source": [
        "import numpy as np\n",
        "import time\n",
        "\n",
        "# Python listesi ile işlem\n",
        "python_list = list(range(1000000))\n",
        "start_time = time.time()\n",
        "python_result = [x * 2 for x in python_list]\n",
        "python_time = time.time() - start_time\n",
        "print(f\"Python listesi ile işlem süresi: {python_time:.4f} saniye\")\n",
        "\n",
        "# NumPy array ile işlem\n",
        "numpy_array = np.arange(1000000)\n",
        "start_time = time.time()\n",
        "numpy_result = numpy_array * 2\n",
        "numpy_time = time.time() - start_time\n",
        "print(f\"NumPy array ile işlem süresi: {numpy_time:.4f} saniye\")\n",
        "print(f\"NumPy {python_time/numpy_time:.1f}x daha hızlı!\")"
      ]
    },
    {
      "cell_type": "markdown",
      "metadata": {},
      "source": [
        "Bu örnek neden NumPy'ın bu kadar önemli olduğunu gösterir. Büyük veri setlerinde bu hız farkı hayati önem taşır.\n",
        "\n",
        "### Python Listesi vs NumPy Array: Derinlemesine Karşılaştırma\n",
        "\n",
        "**Python Listesi Yapısı:**"
      ]
    },
    {
      "cell_type": "code",
      "execution_count": 2,
      "metadata": {},
      "outputs": [
        {
          "name": "stdout",
          "output_type": "stream",
          "text": [
            "Python listesi: [1, 2, 3, 4, 5]\n",
            "Liste elemanının tipi: <class 'int'>\n",
            "Listenin tipi: <class 'list'>\n",
            "Karışık liste: [1, 'merhaba', 3.14, True]\n"
          ]
        }
      ],
      "source": [
        "# Python listesi oluşturma\n",
        "python_list = [1, 2, 3, 4, 5]\n",
        "print(f\"Python listesi: {python_list}\")\n",
        "print(f\"Liste elemanının tipi: {type(python_list[0])}\")\n",
        "print(f\"Listenin tipi: {type(python_list)}\")\n",
        "\n",
        "# Python listesi esnektir ama yavaştır\n",
        "mixed_list = [1, \"merhaba\", 3.14, True]\n",
        "print(f\"Karışık liste: {mixed_list}\")"
      ]
    },
    {
      "cell_type": "markdown",
      "metadata": {},
      "source": [
        "**NumPy Array Yapısı:**"
      ]
    },
    {
      "cell_type": "code",
      "execution_count": 3,
      "metadata": {},
      "outputs": [
        {
          "name": "stdout",
          "output_type": "stream",
          "text": [
            "NumPy array: [1 2 3 4 5]\n",
            "Array elemanının tipi: int64\n",
            "Array'in tipi: <class 'numpy.ndarray'>\n",
            "Array'in boyutu: (5,)\n",
            "Array'in boyut sayısı: 1\n"
          ]
        }
      ],
      "source": [
        "import numpy as np\n",
        "\n",
        "# NumPy array oluşturma\n",
        "numpy_array = np.array([1, 2, 3, 4, 5])\n",
        "print(f\"NumPy array: {numpy_array}\")\n",
        "print(f\"Array elemanının tipi: {numpy_array.dtype}\")\n",
        "print(f\"Array'in tipi: {type(numpy_array)}\")\n",
        "print(f\"Array'in boyutu: {numpy_array.shape}\")\n",
        "print(f\"Array'in boyut sayısı: {numpy_array.ndim}\")"
      ]
    },
    {
      "cell_type": "markdown",
      "metadata": {},
      "source": [
        "**Neden NumPy Array'ler Daha Hızlı?**\n",
        "\n",
        "1. **Memory Layout**: Python listesinde her eleman ayrı bir object'tir ve bellekte dağınık şekilde saklanır. NumPy array'de tüm veriler peş peşe saklanır.\n",
        "\n",
        "2. **Type Homogeneity**: Tüm elemanlar aynı tipte olduğu için, her elemana erişim aynı sürede olur.\n",
        "\n",
        "3. **Vectorized Operations**: Döngü kullanmak yerine, tüm array'e aynı anda işlem uygulanır."
      ]
    },
    {
      "cell_type": "code",
      "execution_count": 4,
      "metadata": {},
      "outputs": [
        {
          "name": "stdout",
          "output_type": "stream",
          "text": [
            "Python listesi memory kullanımı: 40056 bytes\n",
            "NumPy array memory kullanımı: 40000 bytes\n",
            "NumPy 1.0x daha az memory kullanıyor\n"
          ]
        }
      ],
      "source": [
        "# Memory efficiency karşılaştırması\n",
        "import sys\n",
        "\n",
        "python_list = [1, 2, 3, 4, 5] * 1000\n",
        "numpy_array = np.array([1, 2, 3, 4, 5] * 1000)\n",
        "\n",
        "print(f\"Python listesi memory kullanımı: {sys.getsizeof(python_list)} bytes\")\n",
        "print(f\"NumPy array memory kullanımı: {numpy_array.nbytes} bytes\")\n",
        "print(f\"NumPy {sys.getsizeof(python_list) / numpy_array.nbytes:.1f}x daha az memory kullanıyor\")"
      ]
    },
    {
      "cell_type": "markdown",
      "metadata": {},
      "source": [
        "---\n",
        "\n",
        "## 🏗️ NumPy Array Oluşturma Yöntemleri\n",
        "\n",
        "### 1. Temel Array Oluşturma Yöntemleri\n",
        "\n",
        "**Python Listesinden Array Oluşturma:**"
      ]
    },
    {
      "cell_type": "code",
      "execution_count": 5,
      "metadata": {},
      "outputs": [
        {
          "name": "stdout",
          "output_type": "stream",
          "text": [
            "1D Array: [1 2 3 4 5]\n",
            "Shape: (5,)\n",
            "2D Array:\n",
            "[[1 2 3]\n",
            " [4 5 6]\n",
            " [7 8 9]]\n",
            "Shape: (3, 3)\n",
            "3D Array:\n",
            "[[[1 2]\n",
            "  [3 4]]\n",
            "\n",
            " [[5 6]\n",
            "  [7 8]]]\n",
            "Shape: (2, 2, 2)\n"
          ]
        }
      ],
      "source": [
        "# 1D array oluşturma\n",
        "liste_1d = [1, 2, 3, 4, 5]\n",
        "array_1d = np.array(liste_1d)\n",
        "print(f\"1D Array: {array_1d}\")\n",
        "print(f\"Shape: {array_1d.shape}\")  # (5,) - 5 elemanlı 1D array\n",
        "\n",
        "# 2D array oluşturma (matrix)\n",
        "liste_2d = [[1, 2, 3], [4, 5, 6], [7, 8, 9]]\n",
        "array_2d = np.array(liste_2d)\n",
        "print(f\"2D Array:\\n{array_2d}\")\n",
        "print(f\"Shape: {array_2d.shape}\")  # (3, 3) - 3x3 matrix\n",
        "\n",
        "# 3D array oluşturma\n",
        "liste_3d = [[[1, 2], [3, 4]], [[5, 6], [7, 8]]]\n",
        "array_3d = np.array(liste_3d)\n",
        "print(f\"3D Array:\\n{array_3d}\")\n",
        "print(f\"Shape: {array_3d.shape}\")  # (2, 2, 2) - 2x2x2 tensor"
      ]
    },
    {
      "cell_type": "markdown",
      "metadata": {},
      "source": [
        "**Veri Tipi Kontrolü ve Dönüştürme:**"
      ]
    },
    {
      "cell_type": "code",
      "execution_count": 6,
      "metadata": {},
      "outputs": [
        {
          "name": "stdout",
          "output_type": "stream",
          "text": [
            "Integer array: [1 2 3], dtype: int32\n",
            "Float array: [1. 2. 3.], dtype: float64\n",
            "Boolean array: [ True False  True], dtype: bool\n",
            "Float'tan int'e dönüştürülen: [1 2 3]\n"
          ]
        }
      ],
      "source": [
        "# Farklı veri tipleri ile array oluşturma\n",
        "int_array = np.array([1, 2, 3], dtype=np.int32)\n",
        "float_array = np.array([1, 2, 3], dtype=np.float64)\n",
        "bool_array = np.array([True, False, True], dtype=np.bool_)\n",
        "\n",
        "print(f\"Integer array: {int_array}, dtype: {int_array.dtype}\")\n",
        "print(f\"Float array: {float_array}, dtype: {float_array.dtype}\")\n",
        "print(f\"Boolean array: {bool_array}, dtype: {bool_array.dtype}\")\n",
        "\n",
        "# Veri tipi dönüştürme\n",
        "float_to_int = float_array.astype(np.int32)\n",
        "print(f\"Float'tan int'e dönüştürülen: {float_to_int}\")"
      ]
    },
    {
      "cell_type": "markdown",
      "metadata": {},
      "source": [
        "### 2. Özel Array Oluşturma Fonksiyonları\n",
        "\n",
        "**Sıfır ve Bir Matrisleri:**"
      ]
    },
    {
      "cell_type": "code",
      "execution_count": 7,
      "metadata": {},
      "outputs": [
        {
          "name": "stdout",
          "output_type": "stream",
          "text": [
            "Zeros 1D: [0. 0. 0. 0. 0.]\n",
            "Zeros 2D:\n",
            "[[0. 0. 0. 0.]\n",
            " [0. 0. 0. 0.]\n",
            " [0. 0. 0. 0.]]\n",
            "Ones 1D: [1. 1. 1. 1.]\n",
            "Ones 2D:\n",
            "[[1. 1. 1.]\n",
            " [1. 1. 1.]]\n",
            "Full array (7 ile dolu):\n",
            "[[7 7 7]\n",
            " [7 7 7]\n",
            " [7 7 7]]\n"
          ]
        }
      ],
      "source": [
        "# Sıfır matrisi oluşturma\n",
        "zeros_1d = np.zeros(5)  # 1D array, 5 adet sıfır\n",
        "zeros_2d = np.zeros((3, 4))  # 3x4 sıfır matrisi\n",
        "print(f\"Zeros 1D: {zeros_1d}\")\n",
        "print(f\"Zeros 2D:\\n{zeros_2d}\")\n",
        "\n",
        "# Bir matrisi oluşturma\n",
        "ones_1d = np.ones(4)\n",
        "ones_2d = np.ones((2, 3))\n",
        "print(f\"Ones 1D: {ones_1d}\")\n",
        "print(f\"Ones 2D:\\n{ones_2d}\")\n",
        "\n",
        "# Belirli bir değerle dolu matrix\n",
        "full_array = np.full((3, 3), 7)  # 3x3 matrix, tüm değerler 7\n",
        "print(f\"Full array (7 ile dolu):\\n{full_array}\")"
      ]
    },
    {
      "cell_type": "markdown",
      "metadata": {},
      "source": [
        "**Aralık ve Dizi Oluşturma:**"
      ]
    },
    {
      "cell_type": "code",
      "execution_count": 8,
      "metadata": {},
      "outputs": [
        {
          "name": "stdout",
          "output_type": "stream",
          "text": [
            "Arange array: [0 2 4 6 8]\n",
            "Linspace array: [0.  0.1 0.2 0.3 0.4 0.5 0.6 0.7 0.8 0.9 1. ]\n",
            "Logspace array: [  1.           3.16227766  10.          31.6227766  100.        ]\n"
          ]
        }
      ],
      "source": [
        "# arange() - Python'un range() fonksiyonuna benzer\n",
        "arange_array = np.arange(0, 10, 2)  # 0'dan 10'a kadar, 2'şer artan\n",
        "print(f\"Arange array: {arange_array}\")\n",
        "\n",
        "# linspace() - Belirli aralıkta eşit boşluklarla sayılar\n",
        "linspace_array = np.linspace(0, 1, 11)  # 0 ile 1 arasında 11 eşit parça\n",
        "print(f\"Linspace array: {linspace_array}\")\n",
        "\n",
        "# logspace() - Logaritmik aralıkta sayılar\n",
        "logspace_array = np.logspace(0, 2, 5)  # 10^0'dan 10^2'ye kadar 5 sayı\n",
        "print(f\"Logspace array: {logspace_array}\")"
      ]
    },
    {
      "cell_type": "markdown",
      "metadata": {},
      "source": [
        "**Rastgele Sayı Üretme:**"
      ]
    },
    {
      "cell_type": "code",
      "execution_count": 9,
      "metadata": {},
      "outputs": [
        {
          "name": "stdout",
          "output_type": "stream",
          "text": [
            "Random uniform [0,1):\n",
            "[[0.37454012 0.95071431 0.73199394]\n",
            " [0.59865848 0.15601864 0.15599452]]\n",
            "Random integers [1,100):\n",
            "[[75 75 88]\n",
            " [24  3 22]\n",
            " [53  2 88]]\n",
            "Random normal (Gaussian):\n",
            "[[-0.46947439  0.54256004 -0.46341769 -0.46572975]\n",
            " [ 0.24196227 -1.91328024 -1.72491783 -0.56228753]]\n"
          ]
        }
      ],
      "source": [
        "# Rastgele sayı üretimi için seed ayarlama (tekrarlanabilir sonuçlar)\n",
        "np.random.seed(42)\n",
        "\n",
        "# 0 ile 1 arasında rastgele sayılar\n",
        "random_uniform = np.random.random((2, 3))\n",
        "print(f\"Random uniform [0,1):\\n{random_uniform}\")\n",
        "\n",
        "# Belirli aralıkta rastgele tam sayılar\n",
        "random_integers = np.random.randint(1, 100, (3, 3))\n",
        "print(f\"Random integers [1,100):\\n{random_integers}\")\n",
        "\n",
        "# Normal dağılımdan rastgele sayılar (Gaussian)\n",
        "random_normal = np.random.normal(0, 1, (2, 4))  # ortalama=0, std=1\n",
        "print(f\"Random normal (Gaussian):\\n{random_normal}\")"
      ]
    },
    {
      "cell_type": "markdown",
      "metadata": {},
      "source": [
        "### 3. Özel Matrisler\n",
        "\n",
        "**Birim Matrix (Identity Matrix):**"
      ]
    },
    {
      "cell_type": "code",
      "execution_count": 10,
      "metadata": {},
      "outputs": [
        {
          "name": "stdout",
          "output_type": "stream",
          "text": [
            "3x3 Birim Matrix:\n",
            "[[1. 0. 0.]\n",
            " [0. 1. 0.]\n",
            " [0. 0. 1.]]\n",
            "Diagonal Matrix:\n",
            "[[1 0 0 0]\n",
            " [0 2 0 0]\n",
            " [0 0 3 0]\n",
            " [0 0 0 4]]\n"
          ]
        }
      ],
      "source": [
        "# Birim matrix - köşegen elemanları 1, diğerleri 0\n",
        "identity_3x3 = np.eye(3)\n",
        "print(f\"3x3 Birim Matrix:\\n{identity_3x3}\")\n",
        "\n",
        "# Diagonal matrix - sadece köşegen elemanları belirtilen değerler\n",
        "diagonal_matrix = np.diag([1, 2, 3, 4])\n",
        "print(f\"Diagonal Matrix:\\n{diagonal_matrix}\")"
      ]
    },
    {
      "cell_type": "markdown",
      "metadata": {},
      "source": [
        "**Eye ve Diag Fonksiyonlarının Kullanım Alanları:**\n",
        "- **Identity Matrix**: Linear algebra işlemlerinde, özellikle matrix çarpımlarında\n",
        "- **Diagonal Matrix**: Covariance matrisleri, feature scaling işlemlerinde\n",
        "- **Machine Learning**: Neural network'lerde weight initialization için\n",
        "\n",
        "---\n",
        "\n",
        "## 📐 Array Özellikleri ve Manipülasyon\n",
        "\n",
        "### Array Özelliklerini Anlama\n",
        "\n",
        "**Temel Özellikler:**"
      ]
    },
    {
      "cell_type": "code",
      "execution_count": 11,
      "metadata": {},
      "outputs": [
        {
          "name": "stdout",
          "output_type": "stream",
          "text": [
            "Sample array:\n",
            "[[[58 41 91 59]\n",
            "  [79 14 61 61]\n",
            "  [46 61 50 54]]\n",
            "\n",
            " [[63  2 50  6]\n",
            "  [20 72 38 17]\n",
            "  [ 3 88 59 13]]]\n",
            "\n",
            "=== ARRAY ÖZELLİKLERİ ===\n",
            "Shape (boyutlar): (2, 3, 4)\n",
            "Ndim (boyut sayısı): 3\n",
            "Size (toplam eleman sayısı): 24\n",
            "Dtype (veri tipi): int64\n",
            "Itemsize (her elemanın byte boyutu): 8\n",
            "Nbytes (toplam byte kullanımı): 192\n"
          ]
        }
      ],
      "source": [
        "# Örnek 3D array oluşturalım\n",
        "sample_array = np.random.randint(0, 100, (2, 3, 4))\n",
        "print(f\"Sample array:\\n{sample_array}\")\n",
        "\n",
        "print(f\"\\n=== ARRAY ÖZELLİKLERİ ===\")\n",
        "print(f\"Shape (boyutlar): {sample_array.shape}\")  # (2, 3, 4)\n",
        "print(f\"Ndim (boyut sayısı): {sample_array.ndim}\")  # 3\n",
        "print(f\"Size (toplam eleman sayısı): {sample_array.size}\")  # 2*3*4 = 24\n",
        "print(f\"Dtype (veri tipi): {sample_array.dtype}\")  # int64 (sistemə göre değişir)\n",
        "print(f\"Itemsize (her elemanın byte boyutu): {sample_array.itemsize}\")\n",
        "print(f\"Nbytes (toplam byte kullanımı): {sample_array.nbytes}\")"
      ]
    },
    {
      "cell_type": "markdown",
      "metadata": {},
      "source": [
        "**Shape Kavramını Derinlemesine Anlama:**"
      ]
    },
    {
      "cell_type": "code",
      "execution_count": 12,
      "metadata": {},
      "outputs": [
        {
          "name": "stdout",
          "output_type": "stream",
          "text": [
            "Height (yükseklik): 2\n",
            "Width (genişlik): 3\n",
            "Depth (derinlik): 4\n",
            "İlk boyutta 2 adet 3x4 matrix var\n",
            "Her matrix 3 satır ve 4 sütundan oluşuyor\n"
          ]
        }
      ],
      "source": [
        "# Shape tuple'ını parçalayalım\n",
        "height, width, depth = sample_array.shape\n",
        "print(f\"Height (yükseklik): {height}\")\n",
        "print(f\"Width (genişlik): {width}\")\n",
        "print(f\"Depth (derinlik): {depth}\")\n",
        "\n",
        "# Her boyuttaki eleman sayıları\n",
        "print(f\"İlk boyutta {height} adet {width}x{depth} matrix var\")\n",
        "print(f\"Her matrix {width} satır ve {depth} sütundan oluşuyor\")"
      ]
    },
    {
      "cell_type": "markdown",
      "metadata": {},
      "source": [
        "### Array Yeniden Şekillendirme (Reshaping)\n",
        "\n",
        "**Reshape İşlemi:**"
      ]
    },
    {
      "cell_type": "code",
      "execution_count": 13,
      "metadata": {},
      "outputs": [
        {
          "name": "stdout",
          "output_type": "stream",
          "text": [
            "Original 1D array: [ 0  1  2  3  4  5  6  7  8  9 10 11]\n",
            "3x4 Matrix:\n",
            "[[ 0  1  2  3]\n",
            " [ 4  5  6  7]\n",
            " [ 8  9 10 11]]\n",
            "4x3 Matrix:\n",
            "[[ 0  1  2]\n",
            " [ 3  4  5]\n",
            " [ 6  7  8]\n",
            " [ 9 10 11]]\n",
            "2x2x3 Tensor:\n",
            "[[[ 0  1  2]\n",
            "  [ 3  4  5]]\n",
            "\n",
            " [[ 6  7  8]\n",
            "  [ 9 10 11]]]\n"
          ]
        }
      ],
      "source": [
        "# 1D array'i farklı şekillere dönüştürme\n",
        "original_array = np.arange(12)  # [0, 1, 2, ..., 11]\n",
        "print(f\"Original 1D array: {original_array}\")\n",
        "\n",
        "# 2D'ye dönüştürme\n",
        "reshaped_2d = original_array.reshape(3, 4)  # 3 satır, 4 sütun\n",
        "print(f\"3x4 Matrix:\\n{reshaped_2d}\")\n",
        "\n",
        "reshaped_2d_alt = original_array.reshape(4, 3)  # 4 satır, 3 sütun\n",
        "print(f\"4x3 Matrix:\\n{reshaped_2d_alt}\")\n",
        "\n",
        "# 3D'ye dönüştürme\n",
        "reshaped_3d = original_array.reshape(2, 2, 3)  # 2x2x3 tensor\n",
        "print(f\"2x2x3 Tensor:\\n{reshaped_3d}\")"
      ]
    },
    {
      "cell_type": "markdown",
      "metadata": {},
      "source": [
        "**Reshape Kuralları ve İpuçları:**"
      ]
    },
    {
      "cell_type": "code",
      "execution_count": 14,
      "metadata": {},
      "outputs": [
        {
          "name": "stdout",
          "output_type": "stream",
          "text": [
            "Original size: 12\n",
            "Reshaped size: 12\n",
            "Aynı mı? True\n",
            "Auto reshaped (3, -1):\n",
            "[[ 0  1  2  3]\n",
            " [ 4  5  6  7]\n",
            " [ 8  9 10 11]]\n",
            "Flattened array: [ 0  1  2  3  4  5  6  7  8  9 10 11]\n"
          ]
        }
      ],
      "source": [
        "# Reshape'te toplam eleman sayısı korunmalı\n",
        "print(f\"Original size: {original_array.size}\")\n",
        "print(f\"Reshaped size: {reshaped_2d.size}\")\n",
        "print(f\"Aynı mı? {original_array.size == reshaped_2d.size}\")\n",
        "\n",
        "# -1 kullanarak otomatik boyut hesaplama\n",
        "auto_reshaped = original_array.reshape(3, -1)  # 3 satır, sütun sayısını otomatik hesapla\n",
        "print(f\"Auto reshaped (3, -1):\\n{auto_reshaped}\")\n",
        "\n",
        "# Flatten - array'i 1D'ye dönüştürme\n",
        "flattened = reshaped_2d.flatten()\n",
        "print(f\"Flattened array: {flattened}\")"
      ]
    },
    {
      "cell_type": "markdown",
      "metadata": {},
      "source": [
        "**Transpose İşlemi:**"
      ]
    },
    {
      "cell_type": "code",
      "execution_count": 15,
      "metadata": {},
      "outputs": [
        {
          "name": "stdout",
          "output_type": "stream",
          "text": [
            "Original matrix (2x3):\n",
            "[[1 2 3]\n",
            " [4 5 6]]\n",
            "Transposed matrix (3x2):\n",
            "[[1 4]\n",
            " [2 5]\n",
            " [3 6]]\n",
            "3D array shape: (2, 3, 4)\n",
            "Transposed 3D shape: (4, 2, 3)\n"
          ]
        }
      ],
      "source": [
        "# Matrix'in satır ve sütunlarını değiştirme\n",
        "matrix = np.array([[1, 2, 3], [4, 5, 6]])\n",
        "print(f\"Original matrix (2x3):\\n{matrix}\")\n",
        "\n",
        "# Transpose işlemi\n",
        "transposed = matrix.T  # veya matrix.transpose()\n",
        "print(f\"Transposed matrix (3x2):\\n{transposed}\")\n",
        "\n",
        "# 3D array'lerde transpose\n",
        "array_3d = np.random.randint(0, 10, (2, 3, 4))\n",
        "print(f\"3D array shape: {array_3d.shape}\")\n",
        "transposed_3d = array_3d.transpose(2, 0, 1)  # Boyutları yeniden sıralama\n",
        "print(f\"Transposed 3D shape: {transposed_3d.shape}\")"
      ]
    },
    {
      "cell_type": "markdown",
      "metadata": {},
      "source": [
        "---\n",
        "\n",
        "## 🎯 Array İndeksleme ve Dilimleme\n",
        "\n",
        "### Temel İndeksleme\n",
        "\n",
        "**1D Array İndeksleme:**"
      ]
    },
    {
      "cell_type": "code",
      "execution_count": 16,
      "metadata": {},
      "outputs": [
        {
          "name": "stdout",
          "output_type": "stream",
          "text": [
            "1D Array: [10 20 30 40 50]\n",
            "İlk eleman (index 0): 10\n",
            "Son eleman (index -1): 50\n",
            "Üçüncü eleman (index 2): 30\n",
            "İlk üç eleman: [10 20 30]\n",
            "Son iki eleman: [40 50]\n",
            "Ortadaki elemanlar: [20 30 40]\n",
            "İkişer atlayarak: [10 30 50]\n"
          ]
        }
      ],
      "source": [
        "# 1D array oluşturma\n",
        "arr_1d = np.array([10, 20, 30, 40, 50])\n",
        "print(f\"1D Array: {arr_1d}\")\n",
        "\n",
        "# Tek eleman erişimi\n",
        "print(f\"İlk eleman (index 0): {arr_1d[0]}\")\n",
        "print(f\"Son eleman (index -1): {arr_1d[-1]}\")\n",
        "print(f\"Üçüncü eleman (index 2): {arr_1d[2]}\")\n",
        "\n",
        "# Dilimleme (slicing)\n",
        "print(f\"İlk üç eleman: {arr_1d[:3]}\")\n",
        "print(f\"Son iki eleman: {arr_1d[-2:]}\")\n",
        "print(f\"Ortadaki elemanlar: {arr_1d[1:4]}\")\n",
        "print(f\"İkişer atlayarak: {arr_1d[::2]}\")"
      ]
    },
    {
      "cell_type": "markdown",
      "metadata": {},
      "source": [
        "**2D Array İndeksleme:**"
      ]
    },
    {
      "cell_type": "code",
      "execution_count": 17,
      "metadata": {},
      "outputs": [
        {
          "name": "stdout",
          "output_type": "stream",
          "text": [
            "2D Array:\n",
            "[[ 1  2  3  4]\n",
            " [ 5  6  7  8]\n",
            " [ 9 10 11 12]]\n",
            "[0,0] pozisyonundaki eleman: 1\n",
            "[1,2] pozisyonundaki eleman: 7\n",
            "[2,-1] pozisyonundaki eleman: 12\n",
            "İlk satır: [1 2 3 4]\n",
            "Son satır: [ 9 10 11 12]\n",
            "İlk sütun: [1 5 9]\n",
            "Son sütun: [ 4  8 12]\n"
          ]
        }
      ],
      "source": [
        "# 2D array oluşturma\n",
        "arr_2d = np.array([[1, 2, 3, 4],\n",
        "                   [5, 6, 7, 8],\n",
        "                   [9, 10, 11, 12]])\n",
        "print(f\"2D Array:\\n{arr_2d}\")\n",
        "\n",
        "# Tek eleman erişimi - [satır, sütun]\n",
        "print(f\"[0,0] pozisyonundaki eleman: {arr_2d[0, 0]}\")  # 1\n",
        "print(f\"[1,2] pozisyonundaki eleman: {arr_2d[1, 2]}\")  # 7\n",
        "print(f\"[2,-1] pozisyonundaki eleman: {arr_2d[2, -1]}\")  # 12\n",
        "\n",
        "# Satır erişimi\n",
        "print(f\"İlk satır: {arr_2d[0]}\")  # [1, 2, 3, 4]\n",
        "print(f\"Son satır: {arr_2d[-1]}\")  # [9, 10, 11, 12]\n",
        "\n",
        "# Sütun erişimi\n",
        "print(f\"İlk sütun: {arr_2d[:, 0]}\")  # [1, 5, 9]\n",
        "print(f\"Son sütun: {arr_2d[:, -1]}\")  # [4, 8, 12]"
      ]
    },
    {
      "cell_type": "markdown",
      "metadata": {},
      "source": [
        "### Gelişmiş Dilimleme Teknikleri\n",
        "\n",
        "**2D Array'de Alt Matrisler:**"
      ]
    },
    {
      "cell_type": "code",
      "execution_count": 18,
      "metadata": {},
      "outputs": [
        {
          "name": "stdout",
          "output_type": "stream",
          "text": [
            "Sol üst 2x2 matrix:\n",
            "[[1 2]\n",
            " [5 6]]\n",
            "Sağ alt 2x2 matrix:\n",
            "[[ 7  8]\n",
            " [11 12]]\n",
            "Ortadaki elemanlar:\n",
            "[[ 6  7]\n",
            " [10 11]]\n",
            "İkişer atlayarak seçim:\n",
            "[[ 1  3]\n",
            " [ 9 11]]\n"
          ]
        }
      ],
      "source": [
        "# Alt matrix seçimi\n",
        "print(f\"Sol üst 2x2 matrix:\\n{arr_2d[:2, :2]}\")\n",
        "# Çıktı: [[1, 2],\n",
        "#         [5, 6]]\n",
        "\n",
        "print(f\"Sağ alt 2x2 matrix:\\n{arr_2d[1:, 2:]}\")\n",
        "# Çıktı: [[7, 8],\n",
        "#         [11, 12]]\n",
        "\n",
        "print(f\"Ortadaki elemanlar:\\n{arr_2d[1:, 1:3]}\")\n",
        "# Çıktı: [[6, 7],\n",
        "#         [10, 11]]\n",
        "\n",
        "# İkişer atlayarak seçim\n",
        "print(f\"İkişer atlayarak seçim:\\n{arr_2d[::2, ::2]}\")\n",
        "# Çıktı: [[1, 3],\n",
        "#         [9, 11]]"
      ]
    },
    {
      "cell_type": "markdown",
      "metadata": {},
      "source": [
        "**Boolean İndeksleme:**"
      ]
    },
    {
      "cell_type": "code",
      "execution_count": 19,
      "metadata": {},
      "outputs": [
        {
          "name": "stdout",
          "output_type": "stream",
          "text": [
            "6'dan büyük elemanlar için mask:\n",
            "[[False False False False]\n",
            " [False False  True  True]\n",
            " [ True  True  True  True]]\n",
            "6'dan büyük elemanlar: [ 7  8  9 10 11 12]\n",
            "6'dan büyük elemanlar 999 yapıldı:\n",
            "[[  1   2   3   4]\n",
            " [  5   6 999 999]\n",
            " [999 999 999 999]]\n"
          ]
        }
      ],
      "source": [
        "# Boolean mask oluşturma\n",
        "mask = arr_2d > 6\n",
        "print(f\"6'dan büyük elemanlar için mask:\\n{mask}\")\n",
        "\n",
        "# Boolean mask ile filtreleme\n",
        "filtered_elements = arr_2d[mask]\n",
        "print(f\"6'dan büyük elemanlar: {filtered_elements}\")\n",
        "\n",
        "# Koşullu değer değiştirme\n",
        "arr_copy = arr_2d.copy()\n",
        "arr_copy[arr_copy > 6] = 999\n",
        "print(f\"6'dan büyük elemanlar 999 yapıldı:\\n{arr_copy}\")"
      ]
    },
    {
      "cell_type": "markdown",
      "metadata": {},
      "source": [
        "**Fancy İndeksleme:**"
      ]
    },
    {
      "cell_type": "code",
      "execution_count": 20,
      "metadata": {},
      "outputs": [
        {
          "name": "stdout",
          "output_type": "stream",
          "text": [
            "0. ve 2. satırlar:\n",
            "[[ 1  2  3  4]\n",
            " [ 9 10 11 12]]\n",
            "Belirli pozisyonlardan elemanlar: [ 2  7 12]\n"
          ]
        }
      ],
      "source": [
        "# Belirli satırları seçme\n",
        "selected_rows = arr_2d[[0, 2]]  # 0. ve 2. satırlar\n",
        "print(f\"0. ve 2. satırlar:\\n{selected_rows}\")\n",
        "\n",
        "# Belirli pozisyonları seçme\n",
        "row_indices = [0, 1, 2]\n",
        "col_indices = [1, 2, 3]\n",
        "selected_elements = arr_2d[row_indices, col_indices]\n",
        "print(f\"Belirli pozisyonlardan elemanlar: {selected_elements}\")\n",
        "# [arr_2d[0,1], arr_2d[1,2], arr_2d[2,3]] = [2, 7, 12]"
      ]
    },
    {
      "cell_type": "markdown",
      "metadata": {},
      "source": [
        "---\n",
        "\n",
        "## ➕ Matematiksel İşlemler ve Vectorization\n",
        "\n",
        "### Element-wise İşlemler\n",
        "\n",
        "**Temel Aritmetik İşlemler:**"
      ]
    },
    {
      "cell_type": "code",
      "execution_count": 21,
      "metadata": {},
      "outputs": [
        {
          "name": "stdout",
          "output_type": "stream",
          "text": [
            "Array 1: [1 2 3 4]\n",
            "Array 2: [5 6 7 8]\n",
            "Toplama: [ 6  8 10 12]\n",
            "Çıkarma: [4 4 4 4]\n",
            "Çarpma: [ 5 12 21 32]\n",
            "Bölme: [5.         3.         2.33333333 2.        ]\n",
            "Üs alma: [ 1  4  9 16]\n",
            "Mod alma: [0 0 1 0]\n"
          ]
        }
      ],
      "source": [
        "# İki array oluşturalım\n",
        "arr1 = np.array([1, 2, 3, 4])\n",
        "arr2 = np.array([5, 6, 7, 8])\n",
        "\n",
        "print(f\"Array 1: {arr1}\")\n",
        "print(f\"Array 2: {arr2}\")\n",
        "\n",
        "# Element-wise işlemler\n",
        "print(f\"Toplama: {arr1 + arr2}\")  # [6, 8, 10, 12]\n",
        "print(f\"Çıkarma: {arr2 - arr1}\")  # [4, 4, 4, 4]\n",
        "print(f\"Çarpma: {arr1 * arr2}\")  # [5, 12, 21, 32]\n",
        "print(f\"Bölme: {arr2 / arr1}\")  # [5.0, 3.0, 2.33, 2.0]\n",
        "print(f\"Üs alma: {arr1 ** 2}\")  # [1, 4, 9, 16]\n",
        "print(f\"Mod alma: {arr2 % arr1}\")  # [0, 0, 1, 0]"
      ]
    },
    {
      "cell_type": "markdown",
      "metadata": {},
      "source": [
        "**Scalar İşlemler (Broadcasting):**"
      ]
    },
    {
      "cell_type": "code",
      "execution_count": 22,
      "metadata": {},
      "outputs": [
        {
          "name": "stdout",
          "output_type": "stream",
          "text": [
            "Array + 10: [11 12 13 14]\n",
            "Array * 3: [ 3  6  9 12]\n",
            "Array / 2: [0.5 1.  1.5 2. ]\n"
          ]
        }
      ],
      "source": [
        "# Array ile scalar işlemler\n",
        "print(f\"Array + 10: {arr1 + 10}\")  # [11, 12, 13, 14]\n",
        "print(f\"Array * 3: {arr1 * 3}\")   # [3, 6, 9, 12]\n",
        "print(f\"Array / 2: {arr1 / 2}\")   # [0.5, 1.0, 1.5, 2.0]"
      ]
    },
    {
      "cell_type": "markdown",
      "metadata": {},
      "source": [
        "**Matrix İşlemleri:**"
      ]
    },
    {
      "cell_type": "code",
      "execution_count": 23,
      "metadata": {},
      "outputs": [
        {
          "name": "stdout",
          "output_type": "stream",
          "text": [
            "Matrix 1:\n",
            "[[1 2]\n",
            " [3 4]]\n",
            "Matrix 2:\n",
            "[[5 6]\n",
            " [7 8]]\n",
            "Element-wise çarpım:\n",
            "[[ 5 12]\n",
            " [21 32]]\n",
            "Matrix çarpımı (dot):\n",
            "[[19 22]\n",
            " [43 50]]\n",
            "Matrix çarpımı (@):\n",
            "[[19 22]\n",
            " [43 50]]\n"
          ]
        }
      ],
      "source": [
        "# 2D array'ler ile işlemler\n",
        "matrix1 = np.array([[1, 2], [3, 4]])\n",
        "matrix2 = np.array([[5, 6], [7, 8]])\n",
        "\n",
        "print(f\"Matrix 1:\\n{matrix1}\")\n",
        "print(f\"Matrix 2:\\n{matrix2}\")\n",
        "\n",
        "# Element-wise çarpım\n",
        "print(f\"Element-wise çarpım:\\n{matrix1 * matrix2}\")\n",
        "\n",
        "# Matrix çarpımı (dot product)\n",
        "print(f\"Matrix çarpımı (dot):\\n{np.dot(matrix1, matrix2)}\")\n",
        "print(f\"Matrix çarpımı (@):\\n{matrix1 @ matrix2}\")  # Python 3.5+"
      ]
    },
    {
      "cell_type": "markdown",
      "metadata": {},
      "source": [
        "### Karşılaştırma İşlemleri\n",
        "\n",
        "**Element-wise Karşılaştırmalar:**"
      ]
    },
    {
      "cell_type": "code",
      "execution_count": 24,
      "metadata": {},
      "outputs": [
        {
          "name": "stdout",
          "output_type": "stream",
          "text": [
            "Array: [1 5 3 8 2]\n",
            "5'ten büyük: [False False False  True False]\n",
            "3'e eşit: [False False  True False False]\n",
            "4'ten küçük: [ True False  True False  True]\n",
            "3'ten büyük VE 6'dan küçük: [False  True False False False]\n",
            "2'ye eşit VEYA 8'e eşit: [False False False  True  True]\n"
          ]
        }
      ],
      "source": [
        "arr = np.array([1, 5, 3, 8, 2])\n",
        "print(f\"Array: {arr}\")\n",
        "\n",
        "# Karşılaştırma işlemleri Boolean array döner\n",
        "print(f\"5'ten büyük: {arr > 5}\")  # [False, False, False, True, False]\n",
        "print(f\"3'e eşit: {arr == 3}\")   # [False, False, True, False, False]\n",
        "print(f\"4'ten küçük: {arr < 4}\") # [True, False, True, False, True]\n",
        "\n",
        "# Boolean array'leri birleştirme\n",
        "print(f\"3'ten büyük VE 6'dan küçük: {(arr > 3) & (arr < 6)}\")\n",
        "print(f\"2'ye eşit VEYA 8'e eşit: {(arr == 2) | (arr == 8)}\")"
      ]
    },
    {
      "cell_type": "markdown",
      "metadata": {},
      "source": [
        "### Universal Functions (ufuncs)\n",
        "\n",
        "**Matematiksel Fonksiyonlar:**"
      ]
    },
    {
      "cell_type": "code",
      "execution_count": 25,
      "metadata": {},
      "outputs": [
        {
          "name": "stdout",
          "output_type": "stream",
          "text": [
            "Açılar (radyan): [0.         0.52359878 0.78539816 1.04719755 1.57079633]\n",
            "Sin değerleri: [0.         0.5        0.70710678 0.8660254  1.        ]\n",
            "Cos değerleri: [1.00000000e+00 8.66025404e-01 7.07106781e-01 5.00000000e-01\n",
            " 6.12323400e-17]\n",
            "Tan değerleri: [0.00000000e+00 5.77350269e-01 1.00000000e+00 1.73205081e+00\n",
            " 1.63312394e+16]\n",
            "e^x: [  2.71828183   7.3890561   20.08553692  54.59815003 148.4131591 ]\n",
            "log(x): [0.         0.69314718 1.09861229 1.38629436 1.60943791]\n",
            "log10(x): [0.         0.30103    0.47712125 0.60205999 0.69897   ]\n",
            "sqrt(x): [1.         1.41421356 1.73205081 2.         2.23606798]\n"
          ]
        }
      ],
      "source": [
        "# Trigonometrik fonksiyonlar\n",
        "angles = np.array([0, np.pi/6, np.pi/4, np.pi/3, np.pi/2])\n",
        "print(f\"Açılar (radyan): {angles}\")\n",
        "print(f\"Sin değerleri: {np.sin(angles)}\")\n",
        "print(f\"Cos değerleri: {np.cos(angles)}\")\n",
        "print(f\"Tan değerleri: {np.tan(angles)}\")\n",
        "\n",
        "# Exponential ve logaritma fonksiyonları\n",
        "numbers = np.array([1, 2, 3, 4, 5])\n",
        "print(f\"e^x: {np.exp(numbers)}\")\n",
        "print(f\"log(x): {np.log(numbers)}\")\n",
        "print(f\"log10(x): {np.log10(numbers)}\")\n",
        "print(f\"sqrt(x): {np.sqrt(numbers)}\")"
      ]
    },
    {
      "cell_type": "markdown",
      "metadata": {},
      "source": [
        "**Aggregate Fonksiyonlar:**"
      ]
    },
    {
      "cell_type": "code",
      "execution_count": 26,
      "metadata": {},
      "outputs": [
        {
          "name": "stdout",
          "output_type": "stream",
          "text": [
            "Data:\n",
            "[[1 2 3]\n",
            " [4 5 6]\n",
            " [7 8 9]]\n",
            "Toplam (sum): 45\n",
            "Ortalama (mean): 5.0\n",
            "Medyan (median): 5.0\n",
            "Standart sapma (std): 2.581988897471611\n",
            "Varyans (var): 6.666666666666667\n",
            "Minimum: 1\n",
            "Maksimum: 9\n",
            "Satır bazlı toplam (axis=1): [ 6 15 24]\n",
            "Sütun bazlı toplam (axis=0): [12 15 18]\n"
          ]
        }
      ],
      "source": [
        "# İstatistiksel fonksiyonlar\n",
        "data = np.array([[1, 2, 3], [4, 5, 6], [7, 8, 9]])\n",
        "print(f\"Data:\\n{data}\")\n",
        "\n",
        "print(f\"Toplam (sum): {np.sum(data)}\")\n",
        "print(f\"Ortalama (mean): {np.mean(data)}\")\n",
        "print(f\"Medyan (median): {np.median(data)}\")\n",
        "print(f\"Standart sapma (std): {np.std(data)}\")\n",
        "print(f\"Varyans (var): {np.var(data)}\")\n",
        "print(f\"Minimum: {np.min(data)}\")\n",
        "print(f\"Maksimum: {np.max(data)}\")\n",
        "\n",
        "# Axis parametresi ile boyut bazlı işlemler\n",
        "print(f\"Satır bazlı toplam (axis=1): {np.sum(data, axis=1)}\")  # [6, 15, 24]\n",
        "print(f\"Sütun bazlı toplam (axis=0): {np.sum(data, axis=0)}\")  # [12, 15, 18]"
      ]
    },
    {
      "cell_type": "markdown",
      "metadata": {},
      "source": [
        "---\n",
        "\n",
        "## 📊 İstatistiksel Analiz ve Agregasyon\n",
        "\n",
        "### Temel İstatistiksel Ölçüler\n",
        "\n",
        "**Merkezi Eğilim Ölçüleri:**"
      ]
    },
    {
      "cell_type": "code",
      "execution_count": 27,
      "metadata": {},
      "outputs": [
        {
          "name": "stdout",
          "output_type": "stream",
          "text": [
            "İlk 10 öğrenci notu: [82.4507123  72.92603548 84.71532807 97.84544785 71.48769938 71.48794565\n",
            " 98.68819223 86.51152094 67.95788421 83.13840065]\n",
            "Ortalama not: 73.44\n",
            "Medyan not: 73.10\n",
            "Mod (en sık not): 67\n"
          ]
        }
      ],
      "source": [
        "# Örnek veri seti oluşturalım - öğrenci notları\n",
        "np.random.seed(42)\n",
        "student_grades = np.random.normal(75, 15, 100)  # ortalama 75, std 15, 100 öğrenci\n",
        "print(f\"İlk 10 öğrenci notu: {student_grades[:10]}\")\n",
        "\n",
        "# Merkezi eğilim ölçüleri\n",
        "mean_grade = np.mean(student_grades)\n",
        "median_grade = np.median(student_grades)\n",
        "print(f\"Ortalama not: {mean_grade:.2f}\")\n",
        "print(f\"Medyan not: {median_grade:.2f}\")\n",
        "\n",
        "# Mode hesaplama (NumPy'da doğrudan yok, en sık görülen değer)\n",
        "unique_values, counts = np.unique(student_grades.astype(int), return_counts=True)\n",
        "mode_grade = unique_values[np.argmax(counts)]\n",
        "print(f\"Mod (en sık not): {mode_grade}\")"
      ]
    },
    {
      "cell_type": "markdown",
      "metadata": {},
      "source": [
        "**Dağılım Ölçüleri:**"
      ]
    },
    {
      "cell_type": "code",
      "execution_count": 28,
      "metadata": {},
      "outputs": [
        {
          "name": "stdout",
          "output_type": "stream",
          "text": [
            "Standart sapma: 13.55\n",
            "Varyans: 183.72\n",
            "Ranj (max-min): 67.08\n",
            "25. percentile: 65.99\n",
            "50. percentile (medyan): 73.10\n",
            "75. percentile: 81.09\n",
            "90. percentile: 90.09\n",
            "95. percentile: 97.20\n"
          ]
        }
      ],
      "source": [
        "# Yayılım ölçüleri\n",
        "std_grade = np.std(student_grades)\n",
        "var_grade = np.var(student_grades)\n",
        "range_grade = np.max(student_grades) - np.min(student_grades)\n",
        "\n",
        "print(f\"Standart sapma: {std_grade:.2f}\")\n",
        "print(f\"Varyans: {var_grade:.2f}\")\n",
        "print(f\"Ranj (max-min): {range_grade:.2f}\")\n",
        "\n",
        "# Percentile hesaplamaları\n",
        "percentiles = np.percentile(student_grades, [25, 50, 75, 90, 95])\n",
        "print(f\"25. percentile: {percentiles[0]:.2f}\")\n",
        "print(f\"50. percentile (medyan): {percentiles[1]:.2f}\")\n",
        "print(f\"75. percentile: {percentiles[2]:.2f}\")\n",
        "print(f\"90. percentile: {percentiles[3]:.2f}\")\n",
        "print(f\"95. percentile: {percentiles[4]:.2f}\")"
      ]
    },
    {
      "cell_type": "markdown",
      "metadata": {},
      "source": [
        "### Çok Boyutlu Veri Analizi\n",
        "\n",
        "**2D Array'lerde İstatistikler:**"
      ]
    },
    {
      "cell_type": "code",
      "execution_count": 29,
      "metadata": {},
      "outputs": [
        {
          "name": "stdout",
          "output_type": "stream",
          "text": [
            "Sınıf notları (5 sınıf, 4 ders):\n",
            "[[68 96 92 83]\n",
            " [74 91 91 83]\n",
            " [71 98 61 62]\n",
            " [96 76 61 61]\n",
            " [87 82 96 91]]\n",
            "Genel ortalama: 81.00\n",
            "Sınıf ortalamaları: [84.75 84.75 73.   73.5  89.  ]\n",
            "Ders ortalamaları: [79.2 88.6 80.2 76. ]\n",
            "En başarılı sınıf: 5 (ortalama: 89.00)\n",
            "En düşük sınıf: 3 (ortalama: 73.00)\n"
          ]
        }
      ],
      "source": [
        "# Örnek: Farklı sınıfların farklı derslerdeki notları\n",
        "# Satırlar: sınıflar, Sütunlar: dersler (Mat, Fen, Türkçe, İngilizce)\n",
        "class_grades = np.random.randint(60, 100, (5, 4))\n",
        "print(f\"Sınıf notları (5 sınıf, 4 ders):\\n{class_grades}\")\n",
        "\n",
        "# Genel istatistikler\n",
        "print(f\"Genel ortalama: {np.mean(class_grades):.2f}\")\n",
        "\n",
        "# Sınıf bazlı istatistikler (axis=1 - satırlar boyunca)\n",
        "class_averages = np.mean(class_grades, axis=1)\n",
        "print(f\"Sınıf ortalamaları: {class_averages}\")\n",
        "\n",
        "# Ders bazlı istatistikler (axis=0 - sütunlar boyunca)\n",
        "subject_averages = np.mean(class_grades, axis=0)\n",
        "print(f\"Ders ortalamaları: {subject_averages}\")\n",
        "\n",
        "# En iyi ve en kötü performans\n",
        "best_class = np.argmax(class_averages)\n",
        "worst_class = np.argmin(class_averages)\n",
        "print(f\"En başarılı sınıf: {best_class + 1} (ortalama: {class_averages[best_class]:.2f})\")\n",
        "print(f\"En düşük sınıf: {worst_class + 1} (ortalama: {class_averages[worst_class]:.2f})\")"
      ]
    },
    {
      "cell_type": "markdown",
      "metadata": {},
      "source": [
        "**Korelasyon Analizi:**"
      ]
    },
    {
      "cell_type": "code",
      "execution_count": 30,
      "metadata": {},
      "outputs": [
        {
          "name": "stdout",
          "output_type": "stream",
          "text": [
            "Dersler arası korelasyon matrisi:\n",
            "[[ 1.         -0.97979129 -0.27525021 -0.20862688]\n",
            " [-0.97979129  1.          0.10656014  0.0528202 ]\n",
            " [-0.27525021  0.10656014  1.          0.99003343]\n",
            " [-0.20862688  0.0528202   0.99003343  1.        ]]\n",
            "\n",
            "Dersler arası korelasyonlar:\n",
            "Matematik - Fen: -0.980\n",
            "Matematik - Türkçe: -0.275\n",
            "Matematik - İngilizce: -0.209\n",
            "Fen - Türkçe: 0.107\n",
            "Fen - İngilizce: 0.053\n",
            "Türkçe - İngilizce: 0.990\n"
          ]
        }
      ],
      "source": [
        "# Korelasyon matrisi hesaplama\n",
        "correlation_matrix = np.corrcoef(class_grades.T)  # Transpose gerekli\n",
        "print(f\"Dersler arası korelasyon matrisi:\\n{correlation_matrix}\")\n",
        "\n",
        "# Derslerin birbirleriyle ilişkisi\n",
        "subjects = ['Matematik', 'Fen', 'Türkçe', 'İngilizce']\n",
        "print(f\"\\nDersler arası korelasyonlar:\")\n",
        "for i in range(len(subjects)):\n",
        "    for j in range(i+1, len(subjects)):\n",
        "        corr = correlation_matrix[i, j]\n",
        "        print(f\"{subjects[i]} - {subjects[j]}: {corr:.3f}\")"
      ]
    },
    {
      "cell_type": "markdown",
      "metadata": {},
      "source": [
        "### Conditional Statistics (Koşullu İstatistikler)\n",
        "\n",
        "**Koşullu Analiz:**"
      ]
    },
    {
      "cell_type": "code",
      "execution_count": 31,
      "metadata": {},
      "outputs": [
        {
          "name": "stdout",
          "output_type": "stream",
          "text": [
            "Toplam öğrenci sayısı: 100\n",
            "Başarılı öğrenci sayısı (75+): 46\n",
            "Başarılı öğrenci oranı: 46.0%\n",
            "Başarılı öğrencilerin ortalaması: 85.09\n",
            "Başarısız öğrencilerin ortalaması: 63.52\n",
            "\n",
            "Not dağılımı:\n",
            "Harf notu A: 11 öğrenci (11.0%)\n",
            "Harf notu B: 19 öğrenci (19.0%)\n",
            "Harf notu C: 32 öğrenci (32.0%)\n",
            "Harf notu D: 21 öğrenci (21.0%)\n",
            "Harf notu F: 17 öğrenci (17.0%)\n"
          ]
        }
      ],
      "source": [
        "# Başarılı öğrenciler (75 üzeri) analizi\n",
        "high_achievers = student_grades[student_grades >= 75]\n",
        "low_achievers = student_grades[student_grades < 75]\n",
        "\n",
        "print(f\"Toplam öğrenci sayısı: {len(student_grades)}\")\n",
        "print(f\"Başarılı öğrenci sayısı (75+): {len(high_achievers)}\")\n",
        "print(f\"Başarılı öğrenci oranı: {len(high_achievers)/len(student_grades)*100:.1f}%\")\n",
        "\n",
        "print(f\"Başarılı öğrencilerin ortalaması: {np.mean(high_achievers):.2f}\")\n",
        "print(f\"Başarısız öğrencilerin ortalaması: {np.mean(low_achievers):.2f}\")\n",
        "\n",
        "# Notlara göre kategorilendirme\n",
        "grade_categories = np.select(\n",
        "    [student_grades >= 90, student_grades >= 80, student_grades >= 70, student_grades >= 60],\n",
        "    ['A', 'B', 'C', 'D'],\n",
        "    default='F'\n",
        ")\n",
        "\n",
        "unique_grades, grade_counts = np.unique(grade_categories, return_counts=True)\n",
        "print(f\"\\nNot dağılımı:\")\n",
        "for grade, count in zip(unique_grades, grade_counts):\n",
        "    print(f\"Harf notu {grade}: {count} öğrenci ({count/len(student_grades)*100:.1f}%)\")"
      ]
    },
    {
      "cell_type": "markdown",
      "metadata": {},
      "source": [
        "---\n",
        "\n",
        "## 🔄 Broadcasting: NumPy'ın Süper Gücü\n",
        "\n",
        "### Broadcasting Kavramı\n",
        "\n",
        "Broadcasting, NumPy'ın en güçlü özelliklerinden biridir. Farklı boyutlardaki array'leri matematiksel işlemlerde kullanabilmemizi sağlar.\n",
        "\n",
        "**Temel Broadcasting Örnekleri:**"
      ]
    },
    {
      "cell_type": "code",
      "execution_count": 32,
      "metadata": {},
      "outputs": [
        {
          "name": "stdout",
          "output_type": "stream",
          "text": [
            "Array + scalar: [11 12 13 14]\n",
            "Matrix + vector broadcasting:\n",
            "[[11 22 33]\n",
            " [14 25 36]\n",
            " [17 28 39]]\n"
          ]
        }
      ],
      "source": [
        "# Scalar ile array işlemi (basit broadcasting)\n",
        "arr = np.array([1, 2, 3, 4])\n",
        "result = arr + 10  # 10, her elemana eklenir\n",
        "print(f\"Array + scalar: {result}\")\n",
        "\n",
        "# 1D array ile 2D array işlemi\n",
        "matrix = np.array([[1, 2, 3],\n",
        "                   [4, 5, 6],\n",
        "                   [7, 8, 9]])\n",
        "vector = np.array([10, 20, 30])\n",
        "\n",
        "# Vector her satıra eklenir\n",
        "broadcast_result = matrix + vector\n",
        "print(f\"Matrix + vector broadcasting:\\n{broadcast_result}\")"
      ]
    },
    {
      "cell_type": "markdown",
      "metadata": {},
      "source": [
        "**Broadcasting Kuralları:**"
      ]
    },
    {
      "cell_type": "code",
      "execution_count": 33,
      "metadata": {},
      "outputs": [
        {
          "name": "stdout",
          "output_type": "stream",
          "text": [
            "=== BROADCASTING KURALLARI ===\n",
            "1. Array'ler sağdan başlayarak boyut boyut karşılaştırılır\n",
            "2. İki boyut uyumludur eğer:\n",
            "   - Eşitse\n",
            "   - Biri 1 ise\n",
            "   - Biri eksikse (None)\n",
            "(1,3) + (3,1) = (3,3):\n",
            "[[2 3 4]\n",
            " [3 4 5]\n",
            " [4 5 6]]\n",
            "3D matrix shape: (2, 3, 4)\n",
            "2D vector shape: (3, 4)\n",
            "Result shape: (2, 3, 4)\n"
          ]
        }
      ],
      "source": [
        "print(\"=== BROADCASTING KURALLARI ===\")\n",
        "print(\"1. Array'ler sağdan başlayarak boyut boyut karşılaştırılır\")\n",
        "print(\"2. İki boyut uyumludur eğer:\")\n",
        "print(\"   - Eşitse\")\n",
        "print(\"   - Biri 1 ise\")\n",
        "print(\"   - Biri eksikse (None)\")\n",
        "\n",
        "# Örnekler\n",
        "a = np.array([[1, 2, 3]])  # Shape: (1, 3)\n",
        "b = np.array([[1], [2], [3]])  # Shape: (3, 1)\n",
        "c = a + b  # Sonuç: (3, 3)\n",
        "print(f\"(1,3) + (3,1) = (3,3):\\n{c}\")\n",
        "\n",
        "# Daha karmaşık örnek\n",
        "matrix_3d = np.random.randint(0, 10, (2, 3, 4))  # Shape: (2, 3, 4)\n",
        "vector_2d = np.random.randint(0, 5, (3, 4))      # Shape: (3, 4)\n",
        "result_3d = matrix_3d + vector_2d  # Broadcasting: (2, 3, 4)\n",
        "print(f\"3D matrix shape: {matrix_3d.shape}\")\n",
        "print(f\"2D vector shape: {vector_2d.shape}\")\n",
        "print(f\"Result shape: {result_3d.shape}\")"
      ]
    },
    {
      "cell_type": "markdown",
      "metadata": {},
      "source": [
        "**Gerçek Dünya Broadcasting Örneği:**"
      ]
    },
    {
      "cell_type": "code",
      "execution_count": 34,
      "metadata": {},
      "outputs": [
        {
          "name": "stdout",
          "output_type": "stream",
          "text": [
            "KDV'li satış verileri:\n",
            "[[118.  162.  250. ]\n",
            " [ 94.4 129.6 225. ]\n",
            " [106.2 151.2 237.5]]\n",
            "İndirimli satış verileri:\n",
            "[[106.2   145.8   225.   ]\n",
            " [ 80.24  110.16  191.25 ]\n",
            " [100.89  143.64  225.625]]\n"
          ]
        }
      ],
      "source": [
        "# Örnek: Farklı şehirlerdeki farklı ürünlerin satış verileri\n",
        "# Satırlar: şehirler, Sütunlar: ürünler\n",
        "sales_data = np.array([[100, 150, 200],  # İstanbul\n",
        "                       [80, 120, 180],   # Ankara  \n",
        "                       [90, 140, 190]])  # İzmir\n",
        "\n",
        "# KDV oranları (ürün bazında)\n",
        "tax_rates = np.array([0.18, 0.08, 0.25])  # %18, %8, %25\n",
        "\n",
        "# Broadcasting ile KDV hesaplama\n",
        "sales_with_tax = sales_data * (1 + tax_rates)\n",
        "print(f\"KDV'li satış verileri:\\n{sales_with_tax}\")\n",
        "\n",
        "# Şehir bazında indirim (her şehre farklı indirim)\n",
        "city_discounts = np.array([[0.1], [0.15], [0.05]])  # %10, %15, %5\n",
        "\n",
        "# İndirimli fiyatlar\n",
        "discounted_sales = sales_with_tax * (1 - city_discounts)\n",
        "print(f\"İndirimli satış verileri:\\n{discounted_sales}\")"
      ]
    },
    {
      "cell_type": "markdown",
      "metadata": {},
      "source": [
        "---\n",
        "\n",
        "## 🧮 Linear Algebra İşlemleri\n",
        "\n",
        "### Temel Matrix İşlemleri\n",
        "\n",
        "**Matrix Çarpımı ve Özellikleri:**"
      ]
    },
    {
      "cell_type": "code",
      "execution_count": 35,
      "metadata": {},
      "outputs": [
        {
          "name": "stdout",
          "output_type": "stream",
          "text": [
            "Matrix A:\n",
            "[[1 2]\n",
            " [3 4]]\n",
            "Matrix B:\n",
            "[[5 6]\n",
            " [7 8]]\n",
            "A @ B (matrix çarpımı):\n",
            "[[19 22]\n",
            " [43 50]]\n",
            "A * B (element-wise):\n",
            "[[ 5 12]\n",
            " [21 32]]\n",
            "A transpose:\n",
            "[[1 3]\n",
            " [2 4]]\n"
          ]
        }
      ],
      "source": [
        "# Matrix tanımlamaları\n",
        "A = np.array([[1, 2],\n",
        "              [3, 4]])\n",
        "B = np.array([[5, 6],\n",
        "              [7, 8]])\n",
        "\n",
        "print(f\"Matrix A:\\n{A}\")\n",
        "print(f\"Matrix B:\\n{B}\")\n",
        "\n",
        "# Matrix çarpımı (farklı yöntemler)\n",
        "dot_product = np.dot(A, B)\n",
        "matmul_product = A @ B\n",
        "print(f\"A @ B (matrix çarpımı):\\n{dot_product}\")\n",
        "\n",
        "# Element-wise çarpım ile karşılaştırma\n",
        "element_wise = A * B\n",
        "print(f\"A * B (element-wise):\\n{element_wise}\")\n",
        "\n",
        "# Matrix transpozesi\n",
        "A_transpose = A.T\n",
        "print(f\"A transpose:\\n{A_transpose}\")"
      ]
    },
    {
      "cell_type": "markdown",
      "metadata": {},
      "source": [
        "**Determinant ve Inverse:**"
      ]
    },
    {
      "cell_type": "code",
      "execution_count": 36,
      "metadata": {},
      "outputs": [
        {
          "name": "stdout",
          "output_type": "stream",
          "text": [
            "A'nın determinantı: -2.0000000000000004\n",
            "A'nın inverse'i:\n",
            "[[-2.   1. ]\n",
            " [ 1.5 -0.5]]\n",
            "A @ A^(-1) (birim matrix olmalı):\n",
            "[[1.0000000e+00 0.0000000e+00]\n",
            " [8.8817842e-16 1.0000000e+00]]\n"
          ]
        }
      ],
      "source": [
        "# Linear algebra fonksiyonları için linalg modülü\n",
        "from numpy.linalg import det, inv, eig\n",
        "\n",
        "# Determinant hesaplama\n",
        "det_A = det(A)\n",
        "print(f\"A'nın determinantı: {det_A}\")\n",
        "\n",
        "# Matrix inverse (ters matrix)\n",
        "if det_A != 0:  # Determinant 0 değilse inverse mevcut\n",
        "    A_inverse = inv(A)\n",
        "    print(f\"A'nın inverse'i:\\n{A_inverse}\")\n",
        "    \n",
        "    # Doğrulama: A * A^(-1) = I (birim matrix)\n",
        "    identity_check = A @ A_inverse\n",
        "    print(f\"A @ A^(-1) (birim matrix olmalı):\\n{identity_check}\")\n",
        "else:\n",
        "    print(\"Matrix tekil (singular), inverse'i yok\")"
      ]
    },
    {
      "cell_type": "markdown",
      "metadata": {},
      "source": [
        "**Eigenvalues ve Eigenvectors:**"
      ]
    },
    {
      "cell_type": "code",
      "execution_count": 37,
      "metadata": {},
      "outputs": [
        {
          "name": "stdout",
          "output_type": "stream",
          "text": [
            "Eigenvalues: [-0.37228132  5.37228132]\n",
            "Eigenvectors:\n",
            "[[-0.82456484 -0.41597356]\n",
            " [ 0.56576746 -0.90937671]]\n",
            "Eigenvalue 1 doğrulaması:\n",
            "A @ v = [ 0.30697009 -0.21062466]\n",
            "λ @ v = [ 0.30697009 -0.21062466]\n",
            "Eşit mi? True\n",
            "Eigenvalue 2 doğrulaması:\n",
            "A @ v = [-2.23472698 -4.88542751]\n",
            "λ @ v = [-2.23472698 -4.88542751]\n",
            "Eşit mi? True\n"
          ]
        }
      ],
      "source": [
        "# Eigenvalue ve eigenvector hesaplama\n",
        "eigenvalues, eigenvectors = eig(A)\n",
        "print(f\"Eigenvalues: {eigenvalues}\")\n",
        "print(f\"Eigenvectors:\\n{eigenvectors}\")\n",
        "\n",
        "# Eigenvalue/eigenvector doğrulaması\n",
        "for i in range(len(eigenvalues)):\n",
        "    λ = eigenvalues[i]\n",
        "    v = eigenvectors[:, i]\n",
        "    \n",
        "    # A*v = λ*v olmalı\n",
        "    left_side = A @ v\n",
        "    right_side = λ * v\n",
        "    print(f\"Eigenvalue {i+1} doğrulaması:\")\n",
        "    print(f\"A @ v = {left_side}\")\n",
        "    print(f\"λ @ v = {right_side}\")\n",
        "    print(f\"Eşit mi? {np.allclose(left_side, right_side)}\")"
      ]
    },
    {
      "cell_type": "markdown",
      "metadata": {},
      "source": [
        "### Daha Karmaşık Linear Algebra\n",
        "\n",
        "**Matrix Norm ve Rank:**"
      ]
    },
    {
      "cell_type": "code",
      "execution_count": 38,
      "metadata": {},
      "outputs": [
        {
          "name": "stdout",
          "output_type": "stream",
          "text": [
            "Frobenius norm: 5.477225575051661\n",
            "Matrix rank: 2\n",
            "Condition number: 14.933034373659263\n"
          ]
        }
      ],
      "source": [
        "# Matrix normları\n",
        "from numpy.linalg import norm, matrix_rank\n",
        "\n",
        "# Frobenius norm (tüm elemanların karelerinin toplamının karekökü)\n",
        "frobenius_norm = norm(A, 'fro')\n",
        "print(f\"Frobenius norm: {frobenius_norm}\")\n",
        "\n",
        "# Matrix rank (bağımsız satır/sütun sayısı)\n",
        "rank_A = matrix_rank(A)\n",
        "print(f\"Matrix rank: {rank_A}\")\n",
        "\n",
        "# Condition number (matrix'in numerik kararlılığı)\n",
        "cond_A = np.linalg.cond(A)\n",
        "print(f\"Condition number: {cond_A}\")"
      ]
    },
    {
      "cell_type": "markdown",
      "metadata": {},
      "source": [
        "**SVD (Singular Value Decomposition):**"
      ]
    },
    {
      "cell_type": "code",
      "execution_count": 39,
      "metadata": {},
      "outputs": [
        {
          "name": "stdout",
          "output_type": "stream",
          "text": [
            "U matrix:\n",
            "[[-0.40455358 -0.9145143 ]\n",
            " [-0.9145143   0.40455358]]\n",
            "Singular values: [5.4649857  0.36596619]\n",
            "V transpose:\n",
            "[[-0.57604844 -0.81741556]\n",
            " [ 0.81741556 -0.57604844]]\n",
            "Reconstructed A:\n",
            "[[1. 2.]\n",
            " [3. 4.]]\n",
            "Orijinal ile aynı mı? True\n"
          ]
        }
      ],
      "source": [
        "# SVD ayrıştırması\n",
        "U, S, Vt = np.linalg.svd(A)\n",
        "print(f\"U matrix:\\n{U}\")\n",
        "print(f\"Singular values: {S}\")\n",
        "print(f\"V transpose:\\n{Vt}\")\n",
        "\n",
        "# SVD'den orijinal matrix'i geri elde etme\n",
        "A_reconstructed = U @ np.diag(S) @ Vt\n",
        "print(f\"Reconstructed A:\\n{A_reconstructed}\")\n",
        "print(f\"Orijinal ile aynı mı? {np.allclose(A, A_reconstructed)}\")"
      ]
    },
    {
      "cell_type": "markdown",
      "metadata": {},
      "source": [
        "---\n",
        "\n",
        "## 🔗 Pandas ile NumPy Entegrasyonu\n",
        "\n",
        "### DataFrame'den NumPy Array'e Dönüşüm\n",
        "\n",
        "**Temel Dönüşümler:**"
      ]
    },
    {
      "cell_type": "code",
      "execution_count": 40,
      "metadata": {},
      "outputs": [
        {
          "name": "stdout",
          "output_type": "stream",
          "text": [
            "DataFrame:\n",
            "       Ad  Yaş  Maaş  Deneyim\n",
            "0     Ali   25  5000        2\n",
            "1    Ayşe   30  6500        5\n",
            "2  Mehmet   35  7200        8\n",
            "3   Fatma   28  5800        3\n",
            "NumPy array shape: (4, 3)\n",
            "NumPy array:\n",
            "[[  25 5000    2]\n",
            " [  30 6500    5]\n",
            " [  35 7200    8]\n",
            " [  28 5800    3]]\n",
            "Yaş array'i: [25 30 35 28]\n"
          ]
        }
      ],
      "source": [
        "import pandas as pd\n",
        "\n",
        "# Örnek DataFrame oluşturma\n",
        "data = {\n",
        "    'Ad': ['Ali', 'Ayşe', 'Mehmet', 'Fatma'],\n",
        "    'Yaş': [25, 30, 35, 28],\n",
        "    'Maaş': [5000, 6500, 7200, 5800],\n",
        "    'Deneyim': [2, 5, 8, 3]\n",
        "}\n",
        "df = pd.DataFrame(data)\n",
        "print(f\"DataFrame:\\n{df}\")\n",
        "\n",
        "# Sadece numerik sütunları NumPy array'e çevirme\n",
        "numeric_columns = ['Yaş', 'Maaş', 'Deneyim']\n",
        "numpy_array = df[numeric_columns].values\n",
        "print(f\"NumPy array shape: {numpy_array.shape}\")\n",
        "print(f\"NumPy array:\\n{numpy_array}\")\n",
        "\n",
        "# Tek sütunu array'e çevirme\n",
        "age_array = df['Yaş'].to_numpy()\n",
        "print(f\"Yaş array'i: {age_array}\")"
      ]
    },
    {
      "cell_type": "markdown",
      "metadata": {},
      "source": [
        "**NumPy ile DataFrame Analizi:**"
      ]
    },
    {
      "cell_type": "code",
      "execution_count": 41,
      "metadata": {},
      "outputs": [
        {
          "name": "stdout",
          "output_type": "stream",
          "text": [
            "Yaş ortalaması: 29.50\n",
            "Maaş medyanı: 6150.00\n",
            "Deneyim standart sapması: 2.29\n",
            "Korelasyon matrisi:\n",
            "[[1.         0.97979626 0.98915957]\n",
            " [0.97979626 1.         0.96867066]\n",
            " [0.98915957 0.96867066 1.        ]]\n",
            "Korelasyon DataFrame:\n",
            "              Yaş      Maaş   Deneyim\n",
            "Yaş      1.000000  0.979796  0.989160\n",
            "Maaş     0.979796  1.000000  0.968671\n",
            "Deneyim  0.989160  0.968671  1.000000\n"
          ]
        }
      ],
      "source": [
        "# NumPy fonksiyonlarını DataFrame'de kullanma\n",
        "print(f\"Yaş ortalaması: {np.mean(numpy_array[:, 0]):.2f}\")\n",
        "print(f\"Maaş medyanı: {np.median(numpy_array[:, 1]):.2f}\")\n",
        "print(f\"Deneyim standart sapması: {np.std(numpy_array[:, 2]):.2f}\")\n",
        "\n",
        "# Correlation matrix hesaplama\n",
        "correlation_matrix = np.corrcoef(numpy_array.T)\n",
        "print(f\"Korelasyon matrisi:\\n{correlation_matrix}\")\n",
        "\n",
        "# DataFrame'e geri dönüştürme\n",
        "correlation_df = pd.DataFrame(correlation_matrix, \n",
        "                            columns=numeric_columns, \n",
        "                            index=numeric_columns)\n",
        "print(f\"Korelasyon DataFrame:\\n{correlation_df}\")"
      ]
    },
    {
      "cell_type": "markdown",
      "metadata": {},
      "source": [
        "### NumPy ile Feature Engineering\n",
        "\n",
        "**Yeni Özellikler Oluşturma:**"
      ]
    },
    {
      "cell_type": "code",
      "execution_count": 42,
      "metadata": {},
      "outputs": [
        {
          "name": "stdout",
          "output_type": "stream",
          "text": [
            "Birim deneyim başına maaş: [1666.66666667 1083.33333333  800.         1450.        ]\n",
            "Maaş kategorileri: ['Düşük' 'Yüksek' 'Çok Yüksek' 'Orta']\n",
            "Güncellenmiş DataFrame:\n",
            "       Ad  Yaş  Maaş  Deneyim  Maaş_Per_Deneyim Maaş_Kategorisi\n",
            "0     Ali   25  5000        2       1666.666667           Düşük\n",
            "1    Ayşe   30  6500        5       1083.333333          Yüksek\n",
            "2  Mehmet   35  7200        8        800.000000      Çok Yüksek\n",
            "3   Fatma   28  5800        3       1450.000000            Orta\n"
          ]
        }
      ],
      "source": [
        "# Maaş ve deneyim verilerini kullanarak yeni özellikler\n",
        "salary_array = numpy_array[:, 1]  # Maaş sütunu\n",
        "experience_array = numpy_array[:, 2]  # Deneyim sütunu\n",
        "\n",
        "# Birim deneyim başına maaş\n",
        "salary_per_experience = salary_array / (experience_array + 1)  # +1 to avoid division by zero\n",
        "print(f\"Birim deneyim başına maaş: {salary_per_experience}\")\n",
        "\n",
        "# Maaş kategorileri (quantile-based)\n",
        "salary_quartiles = np.percentile(salary_array, [25, 50, 75])\n",
        "salary_categories = np.select(\n",
        "    [salary_array <= salary_quartiles[0],\n",
        "     salary_array <= salary_quartiles[1], \n",
        "     salary_array <= salary_quartiles[2]],\n",
        "    ['Düşük', 'Orta', 'Yüksek'],\n",
        "    default='Çok Yüksek'\n",
        ")\n",
        "print(f\"Maaş kategorileri: {salary_categories}\")\n",
        "\n",
        "# Yeni özellikleri DataFrame'e ekleme\n",
        "df['Maaş_Per_Deneyim'] = salary_per_experience\n",
        "df['Maaş_Kategorisi'] = salary_categories\n",
        "print(f\"Güncellenmiş DataFrame:\\n{df}\")"
      ]
    },
    {
      "cell_type": "markdown",
      "metadata": {},
      "source": [
        "**Normalization ve Scaling:**"
      ]
    },
    {
      "cell_type": "code",
      "execution_count": 43,
      "metadata": {},
      "outputs": [
        {
          "name": "stdout",
          "output_type": "stream",
          "text": [
            "Orijinal maaşlar: [5000 6500 7200 5800]\n",
            "Min-Max normalize: [0.         0.68181818 1.         0.36363636]\n",
            "Z-score normalize: [-1.37762274  0.45920758  1.31639507 -0.3979799 ]\n",
            "Tüm veriler normalize edildi:\n",
            "[[-1.23624508 -1.37762274 -1.09108945]\n",
            " [ 0.13736056  0.45920758  0.21821789]\n",
            " [ 1.5109662   1.31639507  1.52752523]\n",
            " [-0.41208169 -0.3979799  -0.65465367]]\n"
          ]
        }
      ],
      "source": [
        "# Min-Max normalization (0-1 arasına sıkıştırma)\n",
        "def min_max_normalize(array):\n",
        "    return (array - np.min(array)) / (np.max(array) - np.min(array))\n",
        "\n",
        "# Z-score normalization (standard normal distribution)\n",
        "def z_score_normalize(array):\n",
        "    return (array - np.mean(array)) / np.std(array)\n",
        "\n",
        "# Maaş verilerini normalize etme\n",
        "salary_minmax = min_max_normalize(salary_array)\n",
        "salary_zscore = z_score_normalize(salary_array)\n",
        "\n",
        "print(f\"Orijinal maaşlar: {salary_array}\")\n",
        "print(f\"Min-Max normalize: {salary_minmax}\")\n",
        "print(f\"Z-score normalize: {salary_zscore}\")\n",
        "\n",
        "# Tüm numerik verileri normalize etme\n",
        "normalized_data = np.zeros_like(numpy_array, dtype=float)\n",
        "for i in range(numpy_array.shape[1]):\n",
        "    normalized_data[:, i] = z_score_normalize(numpy_array[:, i])\n",
        "\n",
        "print(f\"Tüm veriler normalize edildi:\\n{normalized_data}\")"
      ]
    },
    {
      "cell_type": "markdown",
      "metadata": {},
      "source": [
        "---\n",
        "\n",
        "## 🎲 İleri Seviye NumPy Konuları\n",
        "\n",
        "### Random Number Generation\n",
        "\n",
        "**Çeşitli Dağılımlardan Örnekleme:**"
      ]
    },
    {
      "cell_type": "code",
      "execution_count": 44,
      "metadata": {},
      "outputs": [
        {
          "name": "stdout",
          "output_type": "stream",
          "text": [
            "Normal dağılım - ortalama: -0.040, std: 1.001\n",
            "Uniform dağılım - min: 0.000, max: 1.000\n",
            "Exponential dağılım - ortalama: 1.958\n",
            "Binomial dağılım - ortalama: 2.975\n"
          ]
        }
      ],
      "source": [
        "# Random seed ayarlama (reproducible results)\n",
        "np.random.seed(123)\n",
        "\n",
        "# Farklı dağılımlardan örnekler\n",
        "normal_samples = np.random.normal(0, 1, 1000)  # Normal dağılım\n",
        "uniform_samples = np.random.uniform(0, 1, 1000)  # Uniform dağılım\n",
        "exponential_samples = np.random.exponential(2, 1000)  # Exponential dağılım\n",
        "binomial_samples = np.random.binomial(10, 0.3, 1000)  # Binomial dağılım\n",
        "\n",
        "print(f\"Normal dağılım - ortalama: {np.mean(normal_samples):.3f}, std: {np.std(normal_samples):.3f}\")\n",
        "print(f\"Uniform dağılım - min: {np.min(uniform_samples):.3f}, max: {np.max(uniform_samples):.3f}\")\n",
        "print(f\"Exponential dağılım - ortalama: {np.mean(exponential_samples):.3f}\")\n",
        "print(f\"Binomial dağılım - ortalama: {np.mean(binomial_samples):.3f}\")"
      ]
    },
    {
      "cell_type": "markdown",
      "metadata": {},
      "source": [
        "**Monte Carlo Simülasyon Örneği:**"
      ]
    },
    {
      "cell_type": "code",
      "execution_count": 45,
      "metadata": {},
      "outputs": [
        {
          "name": "stdout",
          "output_type": "stream",
          "text": [
            "n=   100: π ≈ 3.200000, hata: 0.058407\n",
            "n=  1000: π ≈ 3.212000, hata: 0.070407\n",
            "n= 10000: π ≈ 3.161600, hata: 0.020007\n",
            "n=100000: π ≈ 3.141120, hata: 0.000473\n"
          ]
        }
      ],
      "source": [
        "# Pi sayısını Monte Carlo yöntemi ile hesaplama\n",
        "def estimate_pi(n_samples):\n",
        "    # Birim kare içinde rastgele noktalar oluşturma\n",
        "    x = np.random.uniform(-1, 1, n_samples)\n",
        "    y = np.random.uniform(-1, 1, n_samples)\n",
        "    \n",
        "    # Birim çember içinde olan noktaları sayma\n",
        "    inside_circle = (x**2 + y**2) <= 1\n",
        "    pi_estimate = 4 * np.sum(inside_circle) / n_samples\n",
        "    \n",
        "    return pi_estimate\n",
        "\n",
        "# Farklı örneklem boyutları ile pi tahmini\n",
        "sample_sizes = [100, 1000, 10000, 100000]\n",
        "for size in sample_sizes:\n",
        "    pi_est = estimate_pi(size)\n",
        "    error = abs(pi_est - np.pi)\n",
        "    print(f\"n={size:6d}: π ≈ {pi_est:.6f}, hata: {error:.6f}\")"
      ]
    },
    {
      "cell_type": "markdown",
      "metadata": {},
      "source": [
        "### Memory Efficiency ve Performance\n",
        "\n",
        "**Memory Layout ve Performans:**"
      ]
    },
    {
      "cell_type": "code",
      "execution_count": 46,
      "metadata": {},
      "outputs": [
        {
          "name": "stdout",
          "output_type": "stream",
          "text": [
            "C-style array flags:   C_CONTIGUOUS : True\n",
            "  F_CONTIGUOUS : False\n",
            "  OWNDATA : True\n",
            "  WRITEABLE : True\n",
            "  ALIGNED : True\n",
            "  WRITEBACKIFCOPY : False\n",
            "\n",
            "F-style array flags:   C_CONTIGUOUS : False\n",
            "  F_CONTIGUOUS : True\n",
            "  OWNDATA : True\n",
            "  WRITEABLE : True\n",
            "  ALIGNED : True\n",
            "  WRITEBACKIFCOPY : False\n",
            "\n",
            "C-style - Satır erişimi: 0.0011 saniye\n",
            "C-style - Sütun erişimi: 0.0015 saniye\n",
            "F-style - Satır erişimi: 0.0031 saniye\n",
            "F-style - Sütun erişimi: 0.0019 saniye\n"
          ]
        }
      ],
      "source": [
        "# C-style (row-major) vs Fortran-style (column-major) order\n",
        "large_array_c = np.random.random((1000, 1000))  # Default: C-style\n",
        "large_array_f = np.array(large_array_c, order='F')  # Fortran-style\n",
        "\n",
        "print(f\"C-style array flags: {large_array_c.flags}\")\n",
        "print(f\"F-style array flags: {large_array_f.flags}\")\n",
        "\n",
        "# Satır bazlı erişim performance testi\n",
        "import time\n",
        "\n",
        "def test_row_access(array, order_name):\n",
        "    start_time = time.time()\n",
        "    for i in range(array.shape[0]):\n",
        "        _ = array[i, :].sum()\n",
        "    end_time = time.time()\n",
        "    print(f\"{order_name} - Satır erişimi: {end_time - start_time:.4f} saniye\")\n",
        "\n",
        "def test_column_access(array, order_name):\n",
        "    start_time = time.time()\n",
        "    for j in range(array.shape[1]):\n",
        "        _ = array[:, j].sum()\n",
        "    end_time = time.time()\n",
        "    print(f\"{order_name} - Sütun erişimi: {end_time - start_time:.4f} saniye\")\n",
        "\n",
        "test_row_access(large_array_c, \"C-style\")\n",
        "test_column_access(large_array_c, \"C-style\")\n",
        "test_row_access(large_array_f, \"F-style\")\n",
        "test_column_access(large_array_f, \"F-style\")"
      ]
    },
    {
      "cell_type": "markdown",
      "metadata": {},
      "source": [
        "**View vs Copy Kavramı:**"
      ]
    },
    {
      "cell_type": "code",
      "execution_count": 47,
      "metadata": {},
      "outputs": [
        {
          "name": "stdout",
          "output_type": "stream",
          "text": [
            "Orijinal array: [1 2 3 4 5]\n",
            "View array: [2 3 4]\n",
            "View değiştirildi: [999   3   4]\n",
            "Orijinal etkilendi: [  1 999   3   4   5]\n",
            "Copy değiştirildi: [888 999   3   4   5]\n",
            "Orijinal etkilenmedi: [  1 999   3   4   5]\n",
            "View mi? True\n",
            "Copy mi? True\n"
          ]
        }
      ],
      "source": [
        "# Orijinal array\n",
        "original = np.array([1, 2, 3, 4, 5])\n",
        "print(f\"Orijinal array: {original}\")\n",
        "\n",
        "# View oluşturma (aynı memory'yi paylaşır)\n",
        "view_array = original[1:4]  # Slice işlemi view oluşturur\n",
        "print(f\"View array: {view_array}\")\n",
        "\n",
        "# View'i değiştirme orijinali de etkiler\n",
        "view_array[0] = 999\n",
        "print(f\"View değiştirildi: {view_array}\")\n",
        "print(f\"Orijinal etkilendi: {original}\")\n",
        "\n",
        "# Copy oluşturma (yeni memory alanı)\n",
        "copy_array = original.copy()\n",
        "copy_array[0] = 888\n",
        "print(f\"Copy değiştirildi: {copy_array}\")\n",
        "print(f\"Orijinal etkilenmedi: {original}\")\n",
        "\n",
        "# View mi copy mi kontrol etme\n",
        "print(f\"View mi? {view_array.base is original}\")\n",
        "print(f\"Copy mi? {copy_array.base is None}\")"
      ]
    },
    {
      "cell_type": "markdown",
      "metadata": {},
      "source": [
        "---\n",
        "\n",
        "## 🎯 Gerçek Dünya Uygulamaları\n",
        "\n",
        "### Finansal Analiz Örneği\n",
        "\n",
        "**Hisse Senedi Analizi:**"
      ]
    },
    {
      "cell_type": "code",
      "execution_count": 48,
      "metadata": {},
      "outputs": [
        {
          "name": "stdout",
          "output_type": "stream",
          "text": [
            "Başlangıç fiyatı: $100.00\n",
            "Son fiyat: $120.47\n",
            "Toplam getiri: %20.47\n",
            "Yıllık getiri: %23.30\n",
            "Yıllık volatilite: %30.65\n",
            "Sharpe Ratio: 0.760\n",
            "20 günlük hareketli ortalama (son): $119.28\n",
            "50 günlük hareketli ortalama (son): $117.61\n"
          ]
        }
      ],
      "source": [
        "# Günlük hisse senedi fiyatları (simülasyon)\n",
        "np.random.seed(42)\n",
        "days = 252  # 1 yıl (iş günü)\n",
        "initial_price = 100\n",
        "\n",
        "# Random walk modeli ile fiyat simülasyonu\n",
        "daily_returns = np.random.normal(0.001, 0.02, days)  # Günlük getiri\n",
        "prices = np.zeros(days + 1)\n",
        "prices[0] = initial_price\n",
        "\n",
        "for i in range(1, days + 1):\n",
        "    prices[i] = prices[i-1] * (1 + daily_returns[i-1])\n",
        "\n",
        "print(f\"Başlangıç fiyatı: ${initial_price:.2f}\")\n",
        "print(f\"Son fiyat: ${prices[-1]:.2f}\")\n",
        "print(f\"Toplam getiri: %{((prices[-1]/prices[0]) - 1) * 100:.2f}\")\n",
        "\n",
        "# Finansal metrikler\n",
        "annual_return = np.mean(daily_returns) * 252\n",
        "annual_volatility = np.std(daily_returns) * np.sqrt(252)\n",
        "sharpe_ratio = annual_return / annual_volatility\n",
        "\n",
        "print(f\"Yıllık getiri: %{annual_return * 100:.2f}\")\n",
        "print(f\"Yıllık volatilite: %{annual_volatility * 100:.2f}\")\n",
        "print(f\"Sharpe Ratio: {sharpe_ratio:.3f}\")\n",
        "\n",
        "# Moving averages\n",
        "def moving_average(prices, window):\n",
        "    return np.convolve(prices, np.ones(window)/window, mode='valid')\n",
        "\n",
        "ma_20 = moving_average(prices, 20)\n",
        "ma_50 = moving_average(prices, 50)\n",
        "\n",
        "print(f\"20 günlük hareketli ortalama (son): ${ma_20[-1]:.2f}\")\n",
        "print(f\"50 günlük hareketli ortalama (son): ${ma_50[-1]:.2f}\")"
      ]
    },
    {
      "cell_type": "markdown",
      "metadata": {},
      "source": [
        "### Görüntü İşleme Temelleri\n",
        "\n",
        "**NumPy ile Basit Görüntü İşleme:**"
      ]
    },
    {
      "cell_type": "code",
      "execution_count": 49,
      "metadata": {},
      "outputs": [
        {
          "name": "stdout",
          "output_type": "stream",
          "text": [
            "Görüntü boyutu: (100, 100)\n",
            "Piksel değer aralığı: 0 - 255\n",
            "En sık görülen piksel değeri: 178\n",
            "Blur filtresi uygulandı\n",
            "Edge detection tamamlandı, edge image shape: (99, 99)\n"
          ]
        }
      ],
      "source": [
        "# Sahte bir görüntü oluşturma (grayscale)\n",
        "height, width = 100, 100\n",
        "image = np.random.randint(0, 256, (height, width), dtype=np.uint8)\n",
        "\n",
        "print(f\"Görüntü boyutu: {image.shape}\")\n",
        "print(f\"Piksel değer aralığı: {np.min(image)} - {np.max(image)}\")\n",
        "\n",
        "# Histogram analizi\n",
        "histogram, bin_edges = np.histogram(image, bins=256, range=(0, 256))\n",
        "print(f\"En sık görülen piksel değeri: {np.argmax(histogram)}\")\n",
        "\n",
        "# Görüntü filtreleme (blur effect)\n",
        "def apply_blur(image, kernel_size=3):\n",
        "    blurred = np.zeros_like(image)\n",
        "    offset = kernel_size // 2\n",
        "    \n",
        "    for i in range(offset, image.shape[0] - offset):\n",
        "        for j in range(offset, image.shape[1] - offset):\n",
        "            # Çevredeki piksellerin ortalaması\n",
        "            neighborhood = image[i-offset:i+offset+1, j-offset:j+offset+1]\n",
        "            blurred[i, j] = np.mean(neighborhood)\n",
        "    \n",
        "    return blurred\n",
        "\n",
        "blurred_image = apply_blur(image)\n",
        "print(f\"Blur filtresi uygulandı\")\n",
        "\n",
        "# Edge detection (basit gradient)\n",
        "def detect_edges(image):\n",
        "    # Sobel operator benzeri\n",
        "    grad_x = np.diff(image, axis=1)  # Yatay gradient\n",
        "    grad_y = np.diff(image, axis=0)  # Dikey gradient\n",
        "    \n",
        "    # Gradient magnitude\n",
        "    edges = np.sqrt(grad_x[:-1, :]**2 + grad_y[:, :-1]**2)\n",
        "    return edges\n",
        "\n",
        "edges = detect_edges(image)\n",
        "print(f\"Edge detection tamamlandı, edge image shape: {edges.shape}\")"
      ]
    },
    {
      "cell_type": "markdown",
      "metadata": {},
      "source": [
        "### Makine Öğrenmesi Hazırlığı\n",
        "\n",
        "**Veri Ön İşleme için NumPy:**"
      ]
    },
    {
      "cell_type": "code",
      "execution_count": 50,
      "metadata": {},
      "outputs": [
        {
          "name": "stdout",
          "output_type": "stream",
          "text": [
            "Dataset shape: (150, 4)\n",
            "Labels shape: (150,)\n",
            "sepal_length: mean=5.83, std=0.86\n",
            "sepal_width: mean=3.16, std=0.37\n",
            "petal_length: mean=3.67, std=1.70\n",
            "petal_width: mean=1.19, std=0.71\n",
            "Scaled features - mean: [-1.30118138e-15  2.45137244e-15  5.56591810e-16 -1.19756057e-15]\n",
            "Scaled features - std: [1. 1. 1. 1.]\n",
            "Train set: (120, 4), Test set: (30, 4)\n"
          ]
        }
      ],
      "source": [
        "# Örnek dataset: İris benzeri veriler\n",
        "np.random.seed(42)\n",
        "n_samples = 150\n",
        "n_features = 4\n",
        "\n",
        "# 3 farklı sınıf (species) için veri oluşturma\n",
        "class_0 = np.random.normal([5.0, 3.5, 1.5, 0.3], [0.5, 0.3, 0.2, 0.1], (50, n_features))\n",
        "class_1 = np.random.normal([6.0, 3.0, 4.0, 1.3], [0.6, 0.3, 0.4, 0.2], (50, n_features))\n",
        "class_2 = np.random.normal([6.5, 3.0, 5.5, 2.0], [0.7, 0.3, 0.5, 0.3], (50, n_features))\n",
        "\n",
        "# Tüm veriyi birleştirme\n",
        "X = np.vstack([class_0, class_1, class_2])\n",
        "y = np.hstack([np.zeros(50), np.ones(50), np.full(50, 2)])\n",
        "\n",
        "print(f\"Dataset shape: {X.shape}\")\n",
        "print(f\"Labels shape: {y.shape}\")\n",
        "\n",
        "# Feature statistics\n",
        "feature_names = ['sepal_length', 'sepal_width', 'petal_length', 'petal_width']\n",
        "for i, name in enumerate(feature_names):\n",
        "    print(f\"{name}: mean={np.mean(X[:, i]):.2f}, std={np.std(X[:, i]):.2f}\")\n",
        "\n",
        "# Feature scaling (standardization)\n",
        "X_scaled = (X - np.mean(X, axis=0)) / np.std(X, axis=0)\n",
        "print(f\"Scaled features - mean: {np.mean(X_scaled, axis=0)}\")\n",
        "print(f\"Scaled features - std: {np.std(X_scaled, axis=0)}\")\n",
        "\n",
        "# Train-test split\n",
        "def train_test_split(X, y, test_size=0.2, random_state=42):\n",
        "    np.random.seed(random_state)\n",
        "    n_samples = X.shape[0]\n",
        "    n_test = int(n_samples * test_size)\n",
        "    \n",
        "    # Random indices\n",
        "    indices = np.random.permutation(n_samples)\n",
        "    test_indices = indices[:n_test]\n",
        "    train_indices = indices[n_test:]\n",
        "    \n",
        "    return X[train_indices], X[test_indices], y[train_indices], y[test_indices]\n",
        "\n",
        "X_train, X_test, y_train, y_test = train_test_split(X_scaled, y)\n",
        "print(f\"Train set: {X_train.shape}, Test set: {X_test.shape}\")"
      ]
    },
    {
      "cell_type": "markdown",
      "metadata": {},
      "source": [
        "---\n",
        "\n",
        "## 📝 Hafta Sonu Kapsamlı Projesi\n",
        "\n",
        "### Proje: Öğrenci Performans Analiz Sistemi\n",
        "\n",
        "**Veri Oluşturma ve Hazırlama:**"
      ]
    },
    {
      "cell_type": "code",
      "execution_count": 51,
      "metadata": {},
      "outputs": [
        {
          "name": "stdout",
          "output_type": "stream",
          "text": [
            "Öğrenci sayısı: 200\n",
            "Ders sayısı: 6\n",
            "Not matrisi boyutu: (200, 6)\n"
          ]
        }
      ],
      "source": [
        "# Kapsamlı öğrenci performans analizi\n",
        "np.random.seed(42)\n",
        "\n",
        "# 200 öğrenci, 6 ders\n",
        "n_students = 200\n",
        "subjects = ['Matematik', 'Fen', 'Türkçe', 'İngilizce', 'Tarih', 'Coğrafya']\n",
        "n_subjects = len(subjects)\n",
        "\n",
        "# Öğrenci bilgileri\n",
        "student_ages = np.random.randint(15, 19, n_students)\n",
        "study_hours = np.random.exponential(3, n_students)  # Haftalık çalışma saati\n",
        "family_income = np.random.lognormal(10, 0.5, n_students)  # Aile geliri\n",
        "\n",
        "# Notlar (çeşitli faktörlere bağlı)\n",
        "base_grades = np.random.normal(75, 15, (n_students, n_subjects))\n",
        "\n",
        "# Yaşın etkisi (küçük)\n",
        "age_effect = (student_ages.reshape(-1, 1) - 16) * 2\n",
        "\n",
        "# Çalışma saatinin etkisi\n",
        "study_effect = np.clip(study_hours.reshape(-1, 1) * 3, 0, 20)\n",
        "\n",
        "# Gelir etkisi (logaritmik)\n",
        "income_effect = np.log(family_income).reshape(-1, 1) * 2\n",
        "\n",
        "# Final notları hesaplama\n",
        "final_grades = base_grades + age_effect + study_effect + income_effect\n",
        "final_grades = np.clip(final_grades, 0, 100)  # 0-100 aralığında sınırla\n",
        "\n",
        "print(f\"Öğrenci sayısı: {n_students}\")\n",
        "print(f\"Ders sayısı: {n_subjects}\")\n",
        "print(f\"Not matrisi boyutu: {final_grades.shape}\")"
      ]
    },
    {
      "cell_type": "markdown",
      "metadata": {},
      "source": [
        "**İstatistiksel Analiz:**"
      ]
    },
    {
      "cell_type": "code",
      "execution_count": 52,
      "metadata": {},
      "outputs": [
        {
          "name": "stdout",
          "output_type": "stream",
          "text": [
            "=== GENEL İSTATİSTİKLER ===\n",
            "Genel ortalama: 95.78\n",
            "Genel standart sapma: 7.69\n",
            "\n",
            "=== DERS BAZLI ANALİZ ===\n",
            "Matematik : Ort=96.9, Std=5.8, Min=70, Max=100\n",
            "Fen       : Ort=95.2, Std=8.3, Min=59, Max=100\n",
            "Türkçe    : Ort=95.9, Std=7.9, Min=63, Max=100\n",
            "İngilizce : Ort=95.7, Std=7.7, Min=59, Max=100\n",
            "Tarih     : Ort=95.6, Std=7.8, Min=55, Max=100\n",
            "Coğrafya  : Ort=95.5, Std=8.2, Min=60, Max=100\n",
            "\n",
            "=== ÖĞRENB Ci PERFORMANSI ===\n",
            "En başarılı öğrenci #7: 100.00\n",
            "En başarısız öğrenci #35: 82.50\n"
          ]
        }
      ],
      "source": [
        "# Genel istatistikler\n",
        "print(\"=== GENEL İSTATİSTİKLER ===\")\n",
        "overall_mean = np.mean(final_grades)\n",
        "overall_std = np.std(final_grades)\n",
        "print(f\"Genel ortalama: {overall_mean:.2f}\")\n",
        "print(f\"Genel standart sapma: {overall_std:.2f}\")\n",
        "\n",
        "# Ders bazlı analiz\n",
        "print(\"\\n=== DERS BAZLI ANALİZ ===\")\n",
        "subject_stats = np.array([\n",
        "    np.mean(final_grades, axis=0),  # Ortalamalar\n",
        "    np.std(final_grades, axis=0),   # Standart sapmalar\n",
        "    np.min(final_grades, axis=0),   # Minimumlar\n",
        "    np.max(final_grades, axis=0)    # Maksimumlar\n",
        "]).T\n",
        "\n",
        "for i, subject in enumerate(subjects):\n",
        "    print(f\"{subject:10s}: Ort={subject_stats[i,0]:.1f}, \"\n",
        "          f\"Std={subject_stats[i,1]:.1f}, \"\n",
        "          f\"Min={subject_stats[i,2]:.0f}, \"\n",
        "          f\"Max={subject_stats[i,3]:.0f}\")\n",
        "\n",
        "# En başarılı ve en başarısız öğrenciler\n",
        "student_averages = np.mean(final_grades, axis=1)\n",
        "best_student_idx = np.argmax(student_averages)\n",
        "worst_student_idx = np.argmin(student_averages)\n",
        "\n",
        "print(f\"\\n=== ÖĞRENB Ci PERFORMANSI ===\")\n",
        "print(f\"En başarılı öğrenci #{best_student_idx}: {student_averages[best_student_idx]:.2f}\")\n",
        "print(f\"En başarısız öğrenci #{worst_student_idx}: {student_averages[worst_student_idx]:.2f}\")"
      ]
    }
  ],
  "metadata": {
    "kernelspec": {
      "display_name": "Python 3",
      "language": "python",
      "name": "python3"
    },
    "language_info": {
      "codemirror_mode": {
        "name": "ipython",
        "version": 3
      },
      "file_extension": ".py",
      "mimetype": "text/x-python",
      "name": "python",
      "nbconvert_exporter": "python",
      "pygments_lexer": "ipython3",
      "version": "3.13.1"
    }
  },
  "nbformat": 4,
  "nbformat_minor": 4
}
